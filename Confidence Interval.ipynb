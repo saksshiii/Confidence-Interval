{
 "cells": [
  {
   "cell_type": "markdown",
   "id": "d454d30b",
   "metadata": {},
   "source": [
    "## Import Libraries"
   ]
  },
  {
   "cell_type": "code",
   "execution_count": 22,
   "id": "1e8fffdb",
   "metadata": {},
   "outputs": [],
   "source": [
    "import pandas as pd\n",
    "import matplotlib.pyplot as plt\n",
    "import random\n",
    "import numpy as np\n",
    "from scipy.stats import norm,t\n",
    "import statistics\n",
    "import seaborn as sns\n",
    "import scipy.stats as stats"
   ]
  },
  {
   "cell_type": "markdown",
   "id": "f5f5bd8b",
   "metadata": {},
   "source": [
    "## Data"
   ]
  },
  {
   "cell_type": "code",
   "execution_count": 23,
   "id": "d3446c4c",
   "metadata": {},
   "outputs": [],
   "source": [
    "data=pd.read_csv(\"D:\\Dataset/SOCR-HeightWeight.csv\")"
   ]
  },
  {
   "cell_type": "code",
   "execution_count": 24,
   "id": "b01dba5e",
   "metadata": {},
   "outputs": [
    {
     "data": {
      "text/html": [
       "<div>\n",
       "<style scoped>\n",
       "    .dataframe tbody tr th:only-of-type {\n",
       "        vertical-align: middle;\n",
       "    }\n",
       "\n",
       "    .dataframe tbody tr th {\n",
       "        vertical-align: top;\n",
       "    }\n",
       "\n",
       "    .dataframe thead th {\n",
       "        text-align: right;\n",
       "    }\n",
       "</style>\n",
       "<table border=\"1\" class=\"dataframe\">\n",
       "  <thead>\n",
       "    <tr style=\"text-align: right;\">\n",
       "      <th></th>\n",
       "      <th>Index</th>\n",
       "      <th>Height(Inches)</th>\n",
       "      <th>Weight(Pounds)</th>\n",
       "    </tr>\n",
       "  </thead>\n",
       "  <tbody>\n",
       "    <tr>\n",
       "      <th>0</th>\n",
       "      <td>1</td>\n",
       "      <td>65.78331</td>\n",
       "      <td>112.9925</td>\n",
       "    </tr>\n",
       "    <tr>\n",
       "      <th>1</th>\n",
       "      <td>2</td>\n",
       "      <td>71.51521</td>\n",
       "      <td>136.4873</td>\n",
       "    </tr>\n",
       "    <tr>\n",
       "      <th>2</th>\n",
       "      <td>3</td>\n",
       "      <td>69.39874</td>\n",
       "      <td>153.0269</td>\n",
       "    </tr>\n",
       "    <tr>\n",
       "      <th>3</th>\n",
       "      <td>4</td>\n",
       "      <td>68.21660</td>\n",
       "      <td>142.3354</td>\n",
       "    </tr>\n",
       "    <tr>\n",
       "      <th>4</th>\n",
       "      <td>5</td>\n",
       "      <td>67.78781</td>\n",
       "      <td>144.2971</td>\n",
       "    </tr>\n",
       "    <tr>\n",
       "      <th>...</th>\n",
       "      <td>...</td>\n",
       "      <td>...</td>\n",
       "      <td>...</td>\n",
       "    </tr>\n",
       "    <tr>\n",
       "      <th>24995</th>\n",
       "      <td>24996</td>\n",
       "      <td>69.50215</td>\n",
       "      <td>118.0312</td>\n",
       "    </tr>\n",
       "    <tr>\n",
       "      <th>24996</th>\n",
       "      <td>24997</td>\n",
       "      <td>64.54826</td>\n",
       "      <td>120.1932</td>\n",
       "    </tr>\n",
       "    <tr>\n",
       "      <th>24997</th>\n",
       "      <td>24998</td>\n",
       "      <td>64.69855</td>\n",
       "      <td>118.2655</td>\n",
       "    </tr>\n",
       "    <tr>\n",
       "      <th>24998</th>\n",
       "      <td>24999</td>\n",
       "      <td>67.52918</td>\n",
       "      <td>132.2682</td>\n",
       "    </tr>\n",
       "    <tr>\n",
       "      <th>24999</th>\n",
       "      <td>25000</td>\n",
       "      <td>68.87761</td>\n",
       "      <td>124.8742</td>\n",
       "    </tr>\n",
       "  </tbody>\n",
       "</table>\n",
       "<p>25000 rows × 3 columns</p>\n",
       "</div>"
      ],
      "text/plain": [
       "       Index  Height(Inches)  Weight(Pounds)\n",
       "0          1        65.78331        112.9925\n",
       "1          2        71.51521        136.4873\n",
       "2          3        69.39874        153.0269\n",
       "3          4        68.21660        142.3354\n",
       "4          5        67.78781        144.2971\n",
       "...      ...             ...             ...\n",
       "24995  24996        69.50215        118.0312\n",
       "24996  24997        64.54826        120.1932\n",
       "24997  24998        64.69855        118.2655\n",
       "24998  24999        67.52918        132.2682\n",
       "24999  25000        68.87761        124.8742\n",
       "\n",
       "[25000 rows x 3 columns]"
      ]
     },
     "execution_count": 24,
     "metadata": {},
     "output_type": "execute_result"
    }
   ],
   "source": [
    "data"
   ]
  },
  {
   "cell_type": "markdown",
   "id": "cede4184",
   "metadata": {},
   "source": [
    "## Find Mean and standard deviation"
   ]
  },
  {
   "cell_type": "code",
   "execution_count": 25,
   "id": "287b2afd",
   "metadata": {},
   "outputs": [
    {
     "data": {
      "text/plain": [
       "Index             12500.500000\n",
       "Height(Inches)       67.993114\n",
       "Weight(Pounds)      127.079421\n",
       "dtype: float64"
      ]
     },
     "execution_count": 25,
     "metadata": {},
     "output_type": "execute_result"
    }
   ],
   "source": [
    "mean=np.mean(data)\n",
    "mean"
   ]
  },
  {
   "cell_type": "code",
   "execution_count": 26,
   "id": "a52a296e",
   "metadata": {},
   "outputs": [
    {
     "data": {
      "text/plain": [
       "Index             7216.878359\n",
       "Height(Inches)       1.901641\n",
       "Weight(Pounds)      11.660664\n",
       "dtype: float64"
      ]
     },
     "execution_count": 26,
     "metadata": {},
     "output_type": "execute_result"
    }
   ],
   "source": [
    "std_dev=np.std(data)\n",
    "std_dev"
   ]
  },
  {
   "cell_type": "markdown",
   "id": "b2f8a41d",
   "metadata": {},
   "source": [
    "## Draw sample of size n"
   ]
  },
  {
   "cell_type": "code",
   "execution_count": 27,
   "id": "96f37f9d",
   "metadata": {},
   "outputs": [
    {
     "data": {
      "text/plain": [
       "array([[9.01321122e+00, 4.73683972e+01, 1.12987020e+02],\n",
       "       [7.98195299e+00, 6.31044553e+01, 1.23236673e+02],\n",
       "       [1.62527855e+01, 6.38584660e+01, 1.57566968e+02],\n",
       "       ...,\n",
       "       [2.49999542e+04, 5.47937707e+01, 1.14427165e+02],\n",
       "       [2.50046311e+04, 6.81378595e+01, 1.13140822e+02],\n",
       "       [2.50018189e+04, 7.52871182e+01, 1.34548020e+02]])"
      ]
     },
     "execution_count": 27,
     "metadata": {},
     "output_type": "execute_result"
    }
   ],
   "source": [
    "sample_size=14\n",
    "sample=np.random.normal(data,sample_size)\n",
    "sample"
   ]
  },
  {
   "cell_type": "markdown",
   "id": "9d93dece",
   "metadata": {},
   "source": [
    "## Confidence interval when standard deviation is known"
   ]
  },
  {
   "cell_type": "code",
   "execution_count": 28,
   "id": "013000f0",
   "metadata": {},
   "outputs": [
    {
     "name": "stdout",
     "output_type": "stream",
     "text": [
      "confidence interval when standard deviation is known:  Index             7532.261373\n",
      "Height(Inches)      66.683987\n",
      "Weight(Pounds)     119.051994\n",
      "dtype: float64 - Index             17468.738627\n",
      "Height(Inches)       69.302240\n",
      "Weight(Pounds)      135.106848\n",
      "dtype: float64\n"
     ]
    }
   ],
   "source": [
    "confidence_interval=0.99\n",
    "z_score=norm.ppf((1+confidence_interval)/2)\n",
    "margin_of_error=z_score*(std_dev/np.sqrt(sample_size))\n",
    "ci_lower=mean-margin_of_error\n",
    "ci_upper=mean+margin_of_error\n",
    "print(\"confidence interval when standard deviation is known: \",ci_lower, \"-\", ci_upper )"
   ]
  },
  {
   "cell_type": "markdown",
   "id": "bfa85153",
   "metadata": {},
   "source": [
    "## Confidence interval when standard deviation is unknown"
   ]
  },
  {
   "cell_type": "code",
   "execution_count": 30,
   "id": "dd4754aa",
   "metadata": {},
   "outputs": [
    {
     "name": "stdout",
     "output_type": "stream",
     "text": [
      "Confidence interval when standard deviation is unknown:\n",
      "Lower bound: Index             8333.515152\n",
      "Height(Inches)      66.895117\n",
      "Weight(Pounds)     120.346619\n",
      "dtype: float64\n",
      "Upper bound: Index             16667.484848\n",
      "Height(Inches)       69.091110\n",
      "Weight(Pounds)      133.812223\n",
      "dtype: float64\n"
     ]
    }
   ],
   "source": [
    "\n",
    "# Degrees of freedom\n",
    "degrees_of_freedom = sample_size - 1\n",
    "\n",
    "# Confidence interval \n",
    "confidence_level = 0.95\n",
    "\n",
    "# T-score for the confidence level and degrees of freedom\n",
    "t_score = stats.t.ppf((1 + confidence_level) / 2, degrees_of_freedom)\n",
    "\n",
    "# Sample standard deviation\n",
    "sample_std_dev = np.std(data, ddof=1)\n",
    "\n",
    "# Margin of error\n",
    "margin_of_error = t_score * (sample_std_dev / np.sqrt(sample_size))\n",
    "\n",
    "# Confidence interval bounds\n",
    "ci_lower = mean - margin_of_error\n",
    "ci_upper = mean + margin_of_error\n",
    "\n",
    "print(\"Confidence interval when standard deviation is unknown:\")\n",
    "print(\"Lower bound:\", ci_lower)\n",
    "print(\"Upper bound:\", ci_upper)\n"
   ]
  },
  {
   "cell_type": "markdown",
   "id": "667880ff",
   "metadata": {},
   "source": [
    "## Boxplot"
   ]
  },
  {
   "cell_type": "code",
   "execution_count": 35,
   "id": "ca8cfb3c",
   "metadata": {},
   "outputs": [
    {
     "data": {
      "image/png": "[encoded data removed]",
      "text/plain": [
       "<Figure size 720x432 with 1 Axes>"
      ]
     },
     "metadata": {
      "needs_background": "light"
     },
     "output_type": "display_data"
    }
   ],
   "source": [
    "np.random.seed(0)\n",
    "no_of_samples=10\n",
    "sample_size=100\n",
    "data=np.random.normal(loc=170,scale=5,size=(no_of_samples, sample_size))\n",
    "\n",
    "#calculate standard deviations for each sample\n",
    "std_deviations=np.std(data,axis=1)\n",
    "\n",
    "#create a boxplot for all 10 samples\n",
    "plt.figure(figsize=(10,6))\n",
    "plt.boxplot(data.T, labels=[f\"Sample{i+1}\\n(std: {std:.2f})\" for i, std in enumerate(std_deviations)])\n",
    "plt.title(\"boxplot\")\n",
    "plt.grid(True)\n",
    "plt.show()"
   ]
  }
 ],
 "metadata": {
  "kernelspec": {
   "display_name": "Python 3",
   "language": "python",
   "name": "python3"
  },
  "language_info": {
   "codemirror_mode": {
    "name": "ipython",
    "version": 3
   },
   "file_extension": ".py",
   "mimetype": "text/x-python",
   "name": "python",
   "nbconvert_exporter": "python",
   "pygments_lexer": "ipython3",
   "version": "3.8.8"
  }
 },
 "nbformat": 4,
 "nbformat_minor": 5
}
