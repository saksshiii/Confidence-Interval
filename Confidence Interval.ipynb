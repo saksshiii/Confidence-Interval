{
 "cells": [
  {
   "cell_type": "markdown",
   "id": "d454d30b",
   "metadata": {},
   "source": [
    "## Import Libraries"
   ]
  },
  {
   "cell_type": "code",
   "execution_count": 1,
   "id": "1e8fffdb",
   "metadata": {},
   "outputs": [],
   "source": [
    "import pandas as pd\n",
    "import matplotlib.pyplot as plt\n",
    "import random\n",
    "import numpy as np\n",
    "from scipy.stats import norm,t\n",
    "import statistics\n",
    "import seaborn as sns\n",
    "import scipy as stats\n",
    "from scipy import stats"
   ]
  },
  {
   "cell_type": "markdown",
   "id": "f5f5bd8b",
   "metadata": {},
   "source": [
    "## Data"
   ]
  },
  {
   "cell_type": "code",
   "execution_count": 2,
   "id": "d3446c4c",
   "metadata": {},
   "outputs": [],
   "source": [
    "data=pd.read_csv(\"D:\\Dataset/SOCR-HeightWeight.csv\")"
   ]
  },
  {
   "cell_type": "code",
   "execution_count": 3,
   "id": "b01dba5e",
   "metadata": {},
   "outputs": [
    {
     "data": {
      "text/html": [
       "<div>\n",
       "<style scoped>\n",
       "    .dataframe tbody tr th:only-of-type {\n",
       "        vertical-align: middle;\n",
       "    }\n",
       "\n",
       "    .dataframe tbody tr th {\n",
       "        vertical-align: top;\n",
       "    }\n",
       "\n",
       "    .dataframe thead th {\n",
       "        text-align: right;\n",
       "    }\n",
       "</style>\n",
       "<table border=\"1\" class=\"dataframe\">\n",
       "  <thead>\n",
       "    <tr style=\"text-align: right;\">\n",
       "      <th></th>\n",
       "      <th>Index</th>\n",
       "      <th>Height(Inches)</th>\n",
       "      <th>Weight(Pounds)</th>\n",
       "    </tr>\n",
       "  </thead>\n",
       "  <tbody>\n",
       "    <tr>\n",
       "      <th>0</th>\n",
       "      <td>1</td>\n",
       "      <td>65.78331</td>\n",
       "      <td>112.9925</td>\n",
       "    </tr>\n",
       "    <tr>\n",
       "      <th>1</th>\n",
       "      <td>2</td>\n",
       "      <td>71.51521</td>\n",
       "      <td>136.4873</td>\n",
       "    </tr>\n",
       "    <tr>\n",
       "      <th>2</th>\n",
       "      <td>3</td>\n",
       "      <td>69.39874</td>\n",
       "      <td>153.0269</td>\n",
       "    </tr>\n",
       "    <tr>\n",
       "      <th>3</th>\n",
       "      <td>4</td>\n",
       "      <td>68.21660</td>\n",
       "      <td>142.3354</td>\n",
       "    </tr>\n",
       "    <tr>\n",
       "      <th>4</th>\n",
       "      <td>5</td>\n",
       "      <td>67.78781</td>\n",
       "      <td>144.2971</td>\n",
       "    </tr>\n",
       "    <tr>\n",
       "      <th>...</th>\n",
       "      <td>...</td>\n",
       "      <td>...</td>\n",
       "      <td>...</td>\n",
       "    </tr>\n",
       "    <tr>\n",
       "      <th>24995</th>\n",
       "      <td>24996</td>\n",
       "      <td>69.50215</td>\n",
       "      <td>118.0312</td>\n",
       "    </tr>\n",
       "    <tr>\n",
       "      <th>24996</th>\n",
       "      <td>24997</td>\n",
       "      <td>64.54826</td>\n",
       "      <td>120.1932</td>\n",
       "    </tr>\n",
       "    <tr>\n",
       "      <th>24997</th>\n",
       "      <td>24998</td>\n",
       "      <td>64.69855</td>\n",
       "      <td>118.2655</td>\n",
       "    </tr>\n",
       "    <tr>\n",
       "      <th>24998</th>\n",
       "      <td>24999</td>\n",
       "      <td>67.52918</td>\n",
       "      <td>132.2682</td>\n",
       "    </tr>\n",
       "    <tr>\n",
       "      <th>24999</th>\n",
       "      <td>25000</td>\n",
       "      <td>68.87761</td>\n",
       "      <td>124.8742</td>\n",
       "    </tr>\n",
       "  </tbody>\n",
       "</table>\n",
       "<p>25000 rows × 3 columns</p>\n",
       "</div>"
      ],
      "text/plain": [
       "       Index  Height(Inches)  Weight(Pounds)\n",
       "0          1        65.78331        112.9925\n",
       "1          2        71.51521        136.4873\n",
       "2          3        69.39874        153.0269\n",
       "3          4        68.21660        142.3354\n",
       "4          5        67.78781        144.2971\n",
       "...      ...             ...             ...\n",
       "24995  24996        69.50215        118.0312\n",
       "24996  24997        64.54826        120.1932\n",
       "24997  24998        64.69855        118.2655\n",
       "24998  24999        67.52918        132.2682\n",
       "24999  25000        68.87761        124.8742\n",
       "\n",
       "[25000 rows x 3 columns]"
      ]
     },
     "execution_count": 3,
     "metadata": {},
     "output_type": "execute_result"
    }
   ],
   "source": [
    "data"
   ]
  },
  {
   "cell_type": "code",
   "execution_count": 4,
   "id": "133ce9c3",
   "metadata": {},
   "outputs": [
    {
     "data": {
      "text/plain": [
       "0        65.78331\n",
       "1        71.51521\n",
       "2        69.39874\n",
       "3        68.21660\n",
       "4        67.78781\n",
       "           ...   \n",
       "24995    69.50215\n",
       "24996    64.54826\n",
       "24997    64.69855\n",
       "24998    67.52918\n",
       "24999    68.87761\n",
       "Name: Height(Inches), Length: 25000, dtype: float64"
      ]
     },
     "execution_count": 4,
     "metadata": {},
     "output_type": "execute_result"
    }
   ],
   "source": [
    "col = data['Height(Inches)']\n",
    "col"
   ]
  },
  {
   "cell_type": "code",
   "execution_count": 5,
   "id": "684cb3d0",
   "metadata": {},
   "outputs": [
    {
     "data": {
      "text/plain": [
       "0        112.9925\n",
       "1        136.4873\n",
       "2        153.0269\n",
       "3        142.3354\n",
       "4        144.2971\n",
       "           ...   \n",
       "24995    118.0312\n",
       "24996    120.1932\n",
       "24997    118.2655\n",
       "24998    132.2682\n",
       "24999    124.8742\n",
       "Name: Weight(Pounds), Length: 25000, dtype: float64"
      ]
     },
     "execution_count": 5,
     "metadata": {},
     "output_type": "execute_result"
    }
   ],
   "source": [
    "col2 = data['Weight(Pounds)']\n",
    "col2"
   ]
  },
  {
   "cell_type": "markdown",
   "id": "cede4184",
   "metadata": {},
   "source": [
    "## Find Mean and standard deviation"
   ]
  },
  {
   "cell_type": "code",
   "execution_count": 6,
   "id": "287b2afd",
   "metadata": {},
   "outputs": [
    {
     "data": {
      "text/plain": [
       "Index             12500.500000\n",
       "Height(Inches)       67.993114\n",
       "Weight(Pounds)      127.079421\n",
       "dtype: float64"
      ]
     },
     "execution_count": 6,
     "metadata": {},
     "output_type": "execute_result"
    }
   ],
   "source": [
    "mean=np.mean(data)\n",
    "mean"
   ]
  },
  {
   "cell_type": "code",
   "execution_count": 7,
   "id": "91b1a2b6",
   "metadata": {},
   "outputs": [
    {
     "data": {
      "text/plain": [
       "67.99311359679979"
      ]
     },
     "execution_count": 7,
     "metadata": {},
     "output_type": "execute_result"
    }
   ],
   "source": [
    "mean_height=np.mean(col)\n",
    "mean_height"
   ]
  },
  {
   "cell_type": "code",
   "execution_count": 8,
   "id": "29e73ae0",
   "metadata": {},
   "outputs": [
    {
     "data": {
      "text/plain": [
       "127.07942116079916"
      ]
     },
     "execution_count": 8,
     "metadata": {},
     "output_type": "execute_result"
    }
   ],
   "source": [
    "mean_weight=np.mean(col2)\n",
    "mean_weight"
   ]
  },
  {
   "cell_type": "code",
   "execution_count": 9,
   "id": "a52a296e",
   "metadata": {},
   "outputs": [
    {
     "data": {
      "text/plain": [
       "Index             7216.878359\n",
       "Height(Inches)       1.901641\n",
       "Weight(Pounds)      11.660664\n",
       "dtype: float64"
      ]
     },
     "execution_count": 9,
     "metadata": {},
     "output_type": "execute_result"
    }
   ],
   "source": [
    "std_dev=np.std(data)\n",
    "std_dev"
   ]
  },
  {
   "cell_type": "code",
   "execution_count": 10,
   "id": "4935c096",
   "metadata": {},
   "outputs": [
    {
     "data": {
      "text/plain": [
       "1.9016407372498367"
      ]
     },
     "execution_count": 10,
     "metadata": {},
     "output_type": "execute_result"
    }
   ],
   "source": [
    "std_dev_height=np.std(col)\n",
    "std_dev_height"
   ]
  },
  {
   "cell_type": "code",
   "execution_count": 11,
   "id": "2a59b824",
   "metadata": {},
   "outputs": [
    {
     "data": {
      "text/plain": [
       "11.66066434332079"
      ]
     },
     "execution_count": 11,
     "metadata": {},
     "output_type": "execute_result"
    }
   ],
   "source": [
    "std_dev_weight=np.std(col2)\n",
    "std_dev_weight"
   ]
  },
  {
   "cell_type": "markdown",
   "id": "b2f8a41d",
   "metadata": {},
   "source": [
    "## Draw sample of size n"
   ]
  },
  {
   "cell_type": "code",
   "execution_count": 12,
   "id": "96f37f9d",
   "metadata": {},
   "outputs": [
    {
     "data": {
      "text/plain": [
       "array([71.24277, 68.28614, 65.50539, 64.9936 , 64.81203, 68.22623,\n",
       "       70.97046, 69.3919 , 67.83682, 68.88989, 68.57752, 68.42829,\n",
       "       68.48055, 67.54731, 64.32105, 69.39665, 70.30407, 68.57866,\n",
       "       66.84021, 69.49877, 70.78508, 67.83781, 64.9089 , 71.46877,\n",
       "       65.17573, 71.66221, 71.76731, 66.94959, 70.73008, 66.40623,\n",
       "       67.51094, 67.9508 , 69.22852, 68.60162, 66.67426, 67.59082,\n",
       "       68.22623, 67.10869, 69.52012, 68.84648])"
      ]
     },
     "execution_count": 12,
     "metadata": {},
     "output_type": "execute_result"
    }
   ],
   "source": [
    "np.random.seed(20)\n",
    "samplesize=40\n",
    "sample=np.random.choice(col,samplesize)\n",
    "sample"
   ]
  },
  {
   "cell_type": "code",
   "execution_count": 13,
   "id": "586b0230",
   "metadata": {},
   "outputs": [
    {
     "data": {
      "text/plain": [
       "68.2769625"
      ]
     },
     "execution_count": 13,
     "metadata": {},
     "output_type": "execute_result"
    }
   ],
   "source": [
    "sample_mean=np.mean(sample)\n",
    "sample_mean"
   ]
  },
  {
   "cell_type": "code",
   "execution_count": 14,
   "id": "311bd512",
   "metadata": {},
   "outputs": [
    {
     "data": {
      "text/plain": [
       "1.9635192844860854"
      ]
     },
     "execution_count": 14,
     "metadata": {},
     "output_type": "execute_result"
    }
   ],
   "source": [
    "sample_std_dev=np.std(sample)\n",
    "sample_std_dev"
   ]
  },
  {
   "cell_type": "markdown",
   "id": "9d93dece",
   "metadata": {},
   "source": [
    "## Confidence interval when standard deviation is known"
   ]
  },
  {
   "cell_type": "code",
   "execution_count": 15,
   "id": "013000f0",
   "metadata": {},
   "outputs": [
    {
     "name": "stdout",
     "output_type": "stream",
     "text": [
      "Confidence Interval of height: (Index             12382.930016\n",
      "Height(Inches)       67.962134\n",
      "Weight(Pounds)      126.889458\n",
      "dtype: float64, Index             12618.069984\n",
      "Height(Inches)       68.024093\n",
      "Weight(Pounds)      127.269385\n",
      "dtype: float64)\n"
     ]
    }
   ],
   "source": [
    "# confidence interval\n",
    "confidence_level=0.99\n",
    "\n",
    "# sample size is length of the data\n",
    "sample_size=len(data)\n",
    "\n",
    "# z-score to calculate confidence interval\n",
    "z_score=norm.ppf((1+confidence_level)/2)\n",
    "\n",
    "# margin of error\n",
    "margin_of_error=z_score*((std_dev)/np.sqrt(sample_size))\n",
    "lower_bound=mean-margin_of_error \n",
    "upper_bound=mean+margin_of_error\n",
    "\n",
    "print(\"Confidence Interval of height:\",(lower_bound, upper_bound))"
   ]
  },
  {
   "cell_type": "code",
   "execution_count": 18,
   "id": "6cb91c58",
   "metadata": {},
   "outputs": [
    {
     "name": "stdout",
     "output_type": "stream",
     "text": [
      "z-critical: 1.959963984540054\n",
      "Confidence interval: (67.98996558153837, 68.03864711846163)\n"
     ]
    }
   ],
   "source": [
    "np.random.seed(10)\n",
    "\n",
    "sample_size=1000\n",
    "sample=np.random.choice(a=col,size= sample_size)\n",
    "sample_mean=sample.mean()\n",
    "\n",
    "z_critical=stats.norm.ppf(q=0.975)\n",
    "print(\"z-critical:\",z_critical)\n",
    "\n",
    "stdev=col.std()\n",
    "\n",
    "margin_error=z_critical*(stdev/np.sqrt(sample_size))\n",
    "\n",
    "CI=(sample_mean-margin_of_error,sample_mean+margin_of_error)\n",
    "print(\"Confidence interval:\", CI)\n",
    "                         \n",
    "                         \n",
    "                         \n",
    "                         "
   ]
  },
  {
   "cell_type": "markdown",
   "id": "bfa85153",
   "metadata": {},
   "source": [
    "## Confidence interval when standard deviation is unknown"
   ]
  },
  {
   "cell_type": "code",
   "execution_count": 16,
   "id": "dd4754aa",
   "metadata": {},
   "outputs": [
    {
     "name": "stdout",
     "output_type": "stream",
     "text": [
      "Confidence interval when standard deviation is unknown:\n",
      "Lower bound: Index             12500.475659\n",
      "Height(Inches)       67.968773\n",
      "Weight(Pounds)      127.055080\n",
      "dtype: float64\n",
      "Upper bound: Index             12500.524341\n",
      "Height(Inches)       68.017454\n",
      "Weight(Pounds)      127.103762\n",
      "dtype: float64\n"
     ]
    }
   ],
   "source": [
    "# sample size is length of the data\n",
    "sample_size= len(data)\n",
    "\n",
    "# Degrees of freedom\n",
    "degrees_of_freedom = sample_size - 1\n",
    "\n",
    "# Confidence interval \n",
    "confidence_level = 0.95\n",
    "\n",
    "# T-score for the confidence level and degrees of freedom\n",
    "t_score = stats.t.ppf((1 + confidence_level) / 2, degrees_of_freedom)\n",
    "\n",
    "# Margin of error\n",
    "margin_of_error = t_score * (sample_std_dev / np.sqrt(sample_size))\n",
    "\n",
    "# Confidence interval bounds\n",
    "ci_lower_2= mean - margin_of_error\n",
    "ci_upper_2= mean + margin_of_error\n",
    "\n",
    "print(\"Confidence interval when standard deviation is unknown:\")\n",
    "print(\"Lower bound:\", ci_lower_2)\n",
    "print(\"Upper bound:\", ci_upper_2)\n"
   ]
  },
  {
   "cell_type": "code",
   "execution_count": 27,
   "id": "b4d9ccf1",
   "metadata": {},
   "outputs": [
    {
     "name": "stdout",
     "output_type": "stream",
     "text": [
      "t=critical: 2.0638985616280205\n",
      "confidence interval: (67.46982168391445, 69.04086151608557)\n"
     ]
    }
   ],
   "source": [
    "np.random.seed(10)\n",
    "\n",
    "sample_size=25\n",
    "sample=np.random.choice(a=col,size=sample_size)\n",
    "sample_mean=sample.mean()\n",
    "\n",
    "t_critical=stats.t.ppf(q=0.975,df=24)\n",
    "print(\"t=critical:\",t_critical)\n",
    "\n",
    "sample_std=sample.std(ddof=1)\n",
    "\n",
    "sigma=sample_std/np.sqrt(sample_size)\n",
    "\n",
    "margin_of_error=t_critical*sigma\n",
    "CI=(sample_mean-margin_of_error,sample_mean+margin_of_error)\n",
    "print(\"confidence interval:\",CI)"
   ]
  },
  {
   "cell_type": "code",
   "execution_count": 29,
   "id": "cfec6be5",
   "metadata": {},
   "outputs": [
    {
     "data": {
      "text/plain": [
       "(67.46982168391445, 69.04086151608557)"
      ]
     },
     "execution_count": 29,
     "metadata": {},
     "output_type": "execute_result"
    }
   ],
   "source": [
    "stats.t.interval(alpha=0.95,df=24,loc=sample_mean,scale=sigma)"
   ]
  },
  {
   "cell_type": "code",
   "execution_count": 28,
   "id": "57b9fbe1",
   "metadata": {},
   "outputs": [
    {
     "data": {
      "text/plain": [
       "0.0023774765933946007"
      ]
     },
     "execution_count": 28,
     "metadata": {},
     "output_type": "execute_result"
    }
   ],
   "source": [
    "#check the difference between critical values with a sample size of 1000\n",
    "\n",
    "stats.t.ppf(q=0.975,df=999) - stats.norm.ppf(0.975)"
   ]
  },
  {
   "cell_type": "markdown",
   "id": "667880ff",
   "metadata": {},
   "source": [
    "## Boxplot"
   ]
  },
  {
   "cell_type": "code",
   "execution_count": 17,
   "id": "95dbf216",
   "metadata": {
    "scrolled": true
   },
   "outputs": [
    {
     "data": {
      "image/png": "[encoded data removed]",
      "text/plain": [
       "<Figure size 1440x2160 with 1 Axes>"
      ]
     },
     "metadata": {
      "needs_background": "light"
     },
     "output_type": "display_data"
    }
   ],
   "source": [
    "import numpy as np\n",
    "import matplotlib.pyplot as plt\n",
    "from scipy import stats\n",
    "\n",
    "np.random.seed(0)\n",
    "no_of_samples = 10\n",
    "sample_size = 100\n",
    "data = np.random.normal(loc=67.98, scale=1, size=(no_of_samples, sample_size))\n",
    "\n",
    "# Calculate standard deviations for each sample\n",
    "std_deviations = np.std(data, axis=1)\n",
    "\n",
    "# Calculate confidence interval for each sample\n",
    "CI = [stats.norm.interval(0.95, loc=np.mean(data[i]), scale=stats.sem(data[i])) for i in range(len(data))]\n",
    "\n",
    "# Create a boxplot for all samples\n",
    "plt.figure(figsize=(20, 30))\n",
    "plt.boxplot(data.T, labels=[f\"Sample {i+1}\\nCI: ({CI[i][0]:.2f}, {CI[i][1]:.2f})\" for i in range(len(data))])\n",
    "plt.title(\"Boxplot with Confidence Intervals\")\n",
    "plt.xlabel(\"Sample\")\n",
    "plt.ylabel(\"Value\")\n",
    "plt.grid(True)\n",
    "plt.show()\n"
   ]
  },
  {
   "cell_type": "code",
   "execution_count": 21,
   "id": "31d50a28",
   "metadata": {},
   "outputs": [],
   "source": [
    "np.random.seed(12)\n",
    "\n",
    "sample_size=1000\n",
    "\n",
    "intervals=[]\n",
    "sample_means=[]\n",
    "\n",
    "for sample in range(25):\n",
    "    sample = np.random.choice(a=col,size=sample_size)\n",
    "    sample_mean=sample.mean()\n",
    "    sample_means.append(sample_mean)\n",
    "    \n",
    "    z_critical=stats.norm.ppf(q=0.975)\n",
    "    \n",
    "    stdev=col.std()\n",
    "    \n",
    "    stats.norm.ppf(q=0.025)\n",
    "    \n",
    "    margin_of_error=z_critical*(stdev/np.sqrt(sample_size))\n",
    "    \n",
    "    confidence_interval=(sample_mean-margin_of_error,sample_mean+margin_of_error)\n",
    "    \n",
    "    intervals.append(confidence_interval)"
   ]
  },
  {
   "cell_type": "code",
   "execution_count": 25,
   "id": "79a7b6ed",
   "metadata": {
    "scrolled": true
   },
   "outputs": [
    {
     "data": {
      "image/png": "[encoded data removed]",
      "text/plain": [
       "<Figure size 648x648 with 1 Axes>"
      ]
     },
     "metadata": {
      "needs_background": "light"
     },
     "output_type": "display_data"
    }
   ],
   "source": [
    "plt.figure(figsize=(9,9))\n",
    "\n",
    "plt.errorbar(x=np.arange(0.1,25,1),y=sample_means, yerr=[(top-bot)/2 for top,bot in intervals], fmt='o')\n",
    "\n",
    "plt.hlines(xmin=0,xmax=25, y=67.98, linewidth=2.0,color=\"red\");"
   ]
  },
  {
   "cell_type": "code",
   "execution_count": null,
   "id": "c87ce170",
   "metadata": {},
   "outputs": [],
   "source": []
  }
 ],
 "metadata": {
  "kernelspec": {
   "display_name": "Python 3",
   "language": "python",
   "name": "python3"
  },
  "language_info": {
   "codemirror_mode": {
    "name": "ipython",
    "version": 3
   },
   "file_extension": ".py",
   "mimetype": "text/x-python",
   "name": "python",
   "nbconvert_exporter": "python",
   "pygments_lexer": "ipython3",
   "version": "3.8.8"
  }
 },
 "nbformat": 4,
 "nbformat_minor": 5
}
